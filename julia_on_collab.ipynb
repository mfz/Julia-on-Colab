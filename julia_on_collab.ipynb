{
  "nbformat": 4,
  "nbformat_minor": 0,
  "metadata": {
    "accelerator": "GPU",
    "colab": {
      "name": "julia_on_collab.ipynb",
      "provenance": [],
      "include_colab_link": true
    },
    "kernelspec": {
      "display_name": "Julia 1.3",
      "language": "julia",
      "name": "julia-1.3"
    },
    "language_info": {
      "file_extension": ".jl",
      "mimetype": "application/julia",
      "name": "julia",
      "version": "1.3"
    }
  },
  "cells": [
    {
      "cell_type": "markdown",
      "metadata": {
        "id": "view-in-github",
        "colab_type": "text"
      },
      "source": [
        "<a href=\"https://colab.research.google.com/github/mfz/Julia-on-Colab/blob/master/julia_on_collab.ipynb\" target=\"_parent\"><img src=\"https://colab.research.google.com/assets/colab-badge.svg\" alt=\"Open In Colab\"/></a>"
      ]
    },
    {
      "cell_type": "code",
      "metadata": {
        "colab_type": "code",
        "id": "PMGwZ7aFJL8Y",
        "colab": {
          "base_uri": "https://localhost:8080/",
          "height": 1000
        },
        "outputId": "4790cbe2-d1f3-44c8-a9ee-a421ad12c02a"
      },
      "source": [
        "# Installation cell\n",
        "%%shell\n",
        "if ! command -v julia 3>&1 > /dev/null\n",
        "then\n",
        "    wget 'https://julialang-s3.julialang.org/bin/linux/x64/1.3/julia-1.3.1-linux-x86_64.tar.gz' \\\n",
        "        -O /tmp/julia.tar.gz\n",
        "    tar -x -f /tmp/julia.tar.gz -C /usr/local --strip-components 1\n",
        "    rm /tmp/julia.tar.gz\n",
        "fi\n",
        "julia -e 'using Pkg; pkg\"add IJulia; precompile;\"'\n",
        "echo 'Done'"
      ],
      "execution_count": 1,
      "outputs": [
        {
          "output_type": "stream",
          "text": [
            "--2020-03-25 14:56:24--  https://julialang-s3.julialang.org/bin/linux/x64/1.3/julia-1.3.1-linux-x86_64.tar.gz\n",
            "Resolving julialang-s3.julialang.org (julialang-s3.julialang.org)... 151.101.2.49, 151.101.66.49, 151.101.130.49, ...\n",
            "Connecting to julialang-s3.julialang.org (julialang-s3.julialang.org)|151.101.2.49|:443... connected.\n",
            "HTTP request sent, awaiting response... 302 gce internal redirect trigger\n",
            "Location: https://storage.googleapis.com/julialang2/bin/linux/x64/1.3/julia-1.3.1-linux-x86_64.tar.gz [following]\n",
            "--2020-03-25 14:56:24--  https://storage.googleapis.com/julialang2/bin/linux/x64/1.3/julia-1.3.1-linux-x86_64.tar.gz\n",
            "Resolving storage.googleapis.com (storage.googleapis.com)... 74.125.140.128, 2a00:1450:400c:c0a::80\n",
            "Connecting to storage.googleapis.com (storage.googleapis.com)|74.125.140.128|:443... connected.\n",
            "HTTP request sent, awaiting response... 200 OK\n",
            "Length: 95929584 (91M) [application/x-gzip]\n",
            "Saving to: ‘/tmp/julia.tar.gz’\n",
            "\n",
            "/tmp/julia.tar.gz   100%[===================>]  91.49M  65.6MB/s    in 1.4s    \n",
            "\n",
            "2020-03-25 14:56:26 (65.6 MB/s) - ‘/tmp/julia.tar.gz’ saved [95929584/95929584]\n",
            "\n",
            "   Cloning default registries into `~/.julia`\n",
            "   Cloning registry from \"https://github.com/JuliaRegistries/General.git\"\n",
            "\u001b[2K\u001b[?25h     Added registry `General` to `~/.julia/registries/General`\n",
            " Resolving package versions...\n",
            " Installed Parsers ───────── v0.3.12\n",
            " Installed Conda ─────────── v1.4.1\n",
            " Installed IJulia ────────── v1.21.1\n",
            " Installed BinaryProvider ── v0.5.8\n",
            " Installed ZMQ ───────────── v1.2.0\n",
            " Installed MbedTLS ───────── v0.7.0\n",
            " Installed SoftGlobalScope ─ v1.0.10\n",
            " Installed JSON ──────────── v0.21.0\n",
            " Installed VersionParsing ── v1.2.0\n",
            " Installed ZeroMQ_jll ────── v4.3.2+1\n",
            "  Updating `~/.julia/environments/v1.3/Project.toml`\n",
            "  [7073ff75] + IJulia v1.21.1\n",
            "  Updating `~/.julia/environments/v1.3/Manifest.toml`\n",
            "  [b99e7846] + BinaryProvider v0.5.8\n",
            "  [8f4d0f93] + Conda v1.4.1\n",
            "  [7073ff75] + IJulia v1.21.1\n",
            "  [682c06a0] + JSON v0.21.0\n",
            "  [739be429] + MbedTLS v0.7.0\n",
            "  [69de0a69] + Parsers v0.3.12\n",
            "  [b85f4697] + SoftGlobalScope v1.0.10\n",
            "  [81def892] + VersionParsing v1.2.0\n",
            "  [c2297ded] + ZMQ v1.2.0\n",
            "  [8f1865be] + ZeroMQ_jll v4.3.2+1\n",
            "  [2a0f44e3] + Base64 \n",
            "  [ade2ca70] + Dates \n",
            "  [8ba89e20] + Distributed \n",
            "  [7b1f6079] + FileWatching \n",
            "  [b77e0a4c] + InteractiveUtils \n",
            "  [76f85450] + LibGit2 \n",
            "  [8f399da3] + Libdl \n",
            "  [56ddb016] + Logging \n",
            "  [d6f4376e] + Markdown \n",
            "  [a63ad114] + Mmap \n",
            "  [44cfe95a] + Pkg \n",
            "  [de0858da] + Printf \n",
            "  [3fa0cd96] + REPL \n",
            "  [9a3f8284] + Random \n",
            "  [ea8e919c] + SHA \n",
            "  [9e88b42a] + Serialization \n",
            "  [6462fe0b] + Sockets \n",
            "  [8dfed614] + Test \n",
            "  [cf7118a7] + UUIDs \n",
            "  [4ec0a83e] + Unicode \n",
            "  Building Conda ──→ `~/.julia/packages/Conda/3rPhK/deps/build.log`\n",
            "  Building MbedTLS → `~/.julia/packages/MbedTLS/a1JFn/deps/build.log`\n",
            "  Building IJulia ─→ `~/.julia/packages/IJulia/yLI42/deps/build.log`\n",
            "Precompiling project...\n",
            "Precompiling IJulia\n",
            "Done\n"
          ],
          "name": "stdout"
        },
        {
          "output_type": "execute_result",
          "data": {
            "text/plain": [
              ""
            ]
          },
          "metadata": {
            "tags": []
          },
          "execution_count": 1
        }
      ]
    },
    {
      "cell_type": "markdown",
      "metadata": {
        "colab_type": "text",
        "id": "XdMpcQduyaQc"
      },
      "source": [
        "After you run the first cell (the the cell directly above this text), go to Colab's Edit menu and select Notebook settings from the drop down. Select *Julia 1.3* as the runtime and *GPU* as the hadware accelerator.\n",
        "\n",
        "<br/>You should see somthing like this:\n",
        "\n",
        "> ![alt text](https://drive.google.com/uc?id=1AeglaLmWI-zRXPCErofIZ4BH9zvPCwNy)\n",
        "<br/>Click on SAVE\n",
        "<br/>**We are ready to get going**\n",
        "\n",
        "\n",
        "\n"
      ]
    },
    {
      "cell_type": "code",
      "metadata": {
        "colab_type": "code",
        "id": "iIxu4TjlJnBG",
        "colab": {
          "base_uri": "https://localhost:8080/",
          "height": 935
        },
        "outputId": "147c9c94-2325-4429-8930-e32781b4d371"
      },
      "source": [
        "#Julia 1.3 Environment\n",
        "using Pkg\n",
        "pkg\"add BenchmarkTools; precompile;\"\n",
        "pkg\"add CuArrays; precompile;\""
      ],
      "execution_count": 1,
      "outputs": [
        {
          "output_type": "stream",
          "text": [
            "\u001b[32m\u001b[1m  Updating\u001b[22m\u001b[39m registry at `~/.julia/registries/General`\n",
            "\u001b[32m\u001b[1m  Updating\u001b[22m\u001b[39m git-repo `https://github.com/JuliaRegistries/General.git`\n",
            "\u001b[?25l\u001b[2K\u001b[?25h\u001b[32m\u001b[1m Resolving\u001b[22m\u001b[39m package versions...\n",
            "\u001b[32m\u001b[1m Installed\u001b[22m\u001b[39m BenchmarkTools ─ v0.5.0\n",
            "\u001b[32m\u001b[1m  Updating\u001b[22m\u001b[39m `~/.julia/environments/v1.3/Project.toml`\n",
            " \u001b[90m [6e4b80f9]\u001b[39m\u001b[92m + BenchmarkTools v0.5.0\u001b[39m\n",
            "\u001b[32m\u001b[1m  Updating\u001b[22m\u001b[39m `~/.julia/environments/v1.3/Manifest.toml`\n",
            " \u001b[90m [6e4b80f9]\u001b[39m\u001b[92m + BenchmarkTools v0.5.0\u001b[39m\n",
            " \u001b[90m [37e2e46d]\u001b[39m\u001b[92m + LinearAlgebra \u001b[39m\n",
            " \u001b[90m [2f01184e]\u001b[39m\u001b[92m + SparseArrays \u001b[39m\n",
            " \u001b[90m [10745b16]\u001b[39m\u001b[92m + Statistics \u001b[39m\n",
            "\u001b[32m\u001b[1mPrecompiling\u001b[22m\u001b[39m project...\n",
            "\u001b[32m\u001b[1mPrecompiling\u001b[22m\u001b[39m BenchmarkTools\n"
          ],
          "name": "stdout"
        },
        {
          "output_type": "stream",
          "text": [
            "┌ Info: Precompiling BenchmarkTools [6e4b80f9-dd63-53aa-95a3-0cdb28fa8baf]\n",
            "└ @ Base loading.jl:1273\n"
          ],
          "name": "stderr"
        },
        {
          "output_type": "stream",
          "text": [
            "\u001b[32m\u001b[1m Resolving\u001b[22m\u001b[39m package versions...\n",
            "\u001b[32m\u001b[1m Installed\u001b[22m\u001b[39m GPUArrays ────────── v2.0.1\n",
            "\u001b[32m\u001b[1m Installed\u001b[22m\u001b[39m MacroTools ───────── v0.5.5\n",
            "\u001b[32m\u001b[1m Installed\u001b[22m\u001b[39m Requires ─────────── v1.0.1\n",
            "\u001b[32m\u001b[1m Installed\u001b[22m\u001b[39m DataStructures ───── v0.17.10\n",
            "\u001b[32m\u001b[1m Installed\u001b[22m\u001b[39m CUDAapi ──────────── v3.1.0\n",
            "\u001b[32m\u001b[1m Installed\u001b[22m\u001b[39m TimerOutputs ─────── v0.5.3\n",
            "\u001b[32m\u001b[1m Installed\u001b[22m\u001b[39m CuArrays ─────────── v1.7.3\n",
            "\u001b[32m\u001b[1m Installed\u001b[22m\u001b[39m NNlib ────────────── v0.6.6\n",
            "\u001b[32m\u001b[1m Installed\u001b[22m\u001b[39m OrderedCollections ─ v1.1.0\n",
            "\u001b[32m\u001b[1m Installed\u001b[22m\u001b[39m Adapt ────────────── v1.0.1\n",
            "\u001b[32m\u001b[1m Installed\u001b[22m\u001b[39m CEnum ────────────── v0.2.0\n",
            "\u001b[32m\u001b[1m Installed\u001b[22m\u001b[39m AbstractFFTs ─────── v0.5.0\n",
            "\u001b[32m\u001b[1m Installed\u001b[22m\u001b[39m CUDAnative ───────── v2.10.2\n",
            "\u001b[32m\u001b[1m Installed\u001b[22m\u001b[39m LLVM ─────────────── v1.3.4\n",
            "\u001b[32m\u001b[1m Installed\u001b[22m\u001b[39m CUDAdrv ──────────── v6.0.0\n",
            "\u001b[32m\u001b[1m  Updating\u001b[22m\u001b[39m `~/.julia/environments/v1.3/Project.toml`\n",
            " \u001b[90m [3a865a2d]\u001b[39m\u001b[92m + CuArrays v1.7.3\u001b[39m\n",
            "\u001b[32m\u001b[1m  Updating\u001b[22m\u001b[39m `~/.julia/environments/v1.3/Manifest.toml`\n",
            " \u001b[90m [621f4979]\u001b[39m\u001b[92m + AbstractFFTs v0.5.0\u001b[39m\n",
            " \u001b[90m [79e6a3ab]\u001b[39m\u001b[92m + Adapt v1.0.1\u001b[39m\n",
            " \u001b[90m [fa961155]\u001b[39m\u001b[92m + CEnum v0.2.0\u001b[39m\n",
            " \u001b[90m [3895d2a7]\u001b[39m\u001b[92m + CUDAapi v3.1.0\u001b[39m\n",
            " \u001b[90m [c5f51814]\u001b[39m\u001b[92m + CUDAdrv v6.0.0\u001b[39m\n",
            " \u001b[90m [be33ccc6]\u001b[39m\u001b[92m + CUDAnative v2.10.2\u001b[39m\n",
            " \u001b[90m [3a865a2d]\u001b[39m\u001b[92m + CuArrays v1.7.3\u001b[39m\n",
            " \u001b[90m [864edb3b]\u001b[39m\u001b[92m + DataStructures v0.17.10\u001b[39m\n",
            " \u001b[90m [0c68f7d7]\u001b[39m\u001b[92m + GPUArrays v2.0.1\u001b[39m\n",
            " \u001b[90m [929cbde3]\u001b[39m\u001b[92m + LLVM v1.3.4\u001b[39m\n",
            " \u001b[90m [1914dd2f]\u001b[39m\u001b[92m + MacroTools v0.5.5\u001b[39m\n",
            " \u001b[90m [872c559c]\u001b[39m\u001b[92m + NNlib v0.6.6\u001b[39m\n",
            " \u001b[90m [bac558e1]\u001b[39m\u001b[92m + OrderedCollections v1.1.0\u001b[39m\n",
            " \u001b[90m [ae029012]\u001b[39m\u001b[92m + Requires v1.0.1\u001b[39m\n",
            " \u001b[90m [a759f4b9]\u001b[39m\u001b[92m + TimerOutputs v0.5.3\u001b[39m\n",
            "\u001b[32m\u001b[1m  Building\u001b[22m\u001b[39m NNlib → `~/.julia/packages/NNlib/FAI3o/deps/build.log`\n",
            "\u001b[32m\u001b[1mPrecompiling\u001b[22m\u001b[39m project...\n",
            "\u001b[32m\u001b[1mPrecompiling\u001b[22m\u001b[39m CuArrays\n"
          ],
          "name": "stdout"
        },
        {
          "output_type": "stream",
          "text": [
            "┌ Info: Precompiling CuArrays [3a865a2d-5b23-5a0f-bc46-62713ec82fae]\n",
            "└ @ Base loading.jl:1273\n"
          ],
          "name": "stderr"
        }
      ]
    },
    {
      "cell_type": "markdown",
      "metadata": {
        "colab_type": "text",
        "id": "rR7Ox6Ax0ypi"
      },
      "source": [
        "The main reason we are interested in running Julia on Colab is the GPU functionality. We have already installed libraries in the previous cell, so let's benchmark Colab's GPU performance:"
      ]
    },
    {
      "cell_type": "code",
      "metadata": {
        "colab_type": "code",
        "id": "aMI2QjTuyXs2",
        "colab": {
          "base_uri": "https://localhost:8080/",
          "height": 204
        },
        "outputId": "b4189bf5-a9d5-4022-a5f7-9f2d7699e679"
      },
      "source": [
        "using BenchmarkTools\n",
        "\n",
        "mcpu = rand(2^10, 2^10)\n",
        "@benchmark mcpu*mcpu"
      ],
      "execution_count": 2,
      "outputs": [
        {
          "output_type": "execute_result",
          "data": {
            "text/plain": [
              "BenchmarkTools.Trial: \n",
              "  memory estimate:  8.00 MiB\n",
              "  allocs estimate:  2\n",
              "  --------------\n",
              "  minimum time:     75.543 ms (0.00% GC)\n",
              "  median time:      78.379 ms (0.00% GC)\n",
              "  mean time:        79.525 ms (0.55% GC)\n",
              "  maximum time:     98.495 ms (0.00% GC)\n",
              "  --------------\n",
              "  samples:          63\n",
              "  evals/sample:     1"
            ]
          },
          "metadata": {
            "tags": []
          },
          "execution_count": 2
        }
      ]
    },
    {
      "cell_type": "code",
      "metadata": {
        "colab_type": "code",
        "id": "8cbQqjGB0Otl",
        "colab": {
          "base_uri": "https://localhost:8080/",
          "height": 204
        },
        "outputId": "e82989fb-258d-4c00-8652-e5a826a675f9"
      },
      "source": [
        "using CuArrays\n",
        "\n",
        "mgpu = cu(mcpu)\n",
        "@benchmark CuArrays.@sync mgpu*mgpu"
      ],
      "execution_count": 4,
      "outputs": [
        {
          "output_type": "execute_result",
          "data": {
            "text/plain": [
              "BenchmarkTools.Trial: \n",
              "  memory estimate:  448 bytes\n",
              "  allocs estimate:  11\n",
              "  --------------\n",
              "  minimum time:     428.404 μs (0.00% GC)\n",
              "  median time:      474.687 μs (0.00% GC)\n",
              "  mean time:        489.454 μs (0.11% GC)\n",
              "  maximum time:     10.566 ms (27.65% GC)\n",
              "  --------------\n",
              "  samples:          10000\n",
              "  evals/sample:     1"
            ]
          },
          "metadata": {
            "tags": []
          },
          "execution_count": 4
        }
      ]
    },
    {
      "cell_type": "markdown",
      "metadata": {
        "colab_type": "text",
        "id": "_Nhmie2E10dq"
      },
      "source": [
        "The CuArrray operation should take around 1 ms, and should be much faster. If so, the GPU is working."
      ]
    },
    {
      "cell_type": "code",
      "metadata": {
        "id": "IP5pYzJKAwOX",
        "colab_type": "code",
        "colab": {
          "base_uri": "https://localhost:8080/",
          "height": 1000
        },
        "outputId": "3744625f-4da9-4a9c-84e7-dd24d8b59509"
      },
      "source": [
        "import Pkg\n",
        "Pkg.add(\"Flux\")"
      ],
      "execution_count": 6,
      "outputs": [
        {
          "output_type": "stream",
          "text": [
            "\u001b[32m\u001b[1m Resolving\u001b[22m\u001b[39m package versions...\n",
            "\u001b[32m\u001b[1m Installed\u001b[22m\u001b[39m DiffRules ──────────────────── v1.0.1\n",
            "\u001b[32m\u001b[1m Installed\u001b[22m\u001b[39m DiffResults ────────────────── v1.0.2\n",
            "\u001b[32m\u001b[1m Installed\u001b[22m\u001b[39m IntelOpenMP_jll ────────────── v2018.0.3+0\n",
            "\u001b[32m\u001b[1m Installed\u001b[22m\u001b[39m CompilerSupportLibraries_jll ─ v0.3.1+0\n",
            "\u001b[32m\u001b[1m Installed\u001b[22m\u001b[39m NaNMath ────────────────────── v0.3.3\n",
            "\u001b[32m\u001b[1m Installed\u001b[22m\u001b[39m FillArrays ─────────────────── v0.8.5\n",
            "\u001b[32m\u001b[1m Installed\u001b[22m\u001b[39m Flux ───────────────────────── v0.10.3\n",
            "\u001b[32m\u001b[1m Installed\u001b[22m\u001b[39m StatsBase ──────────────────── v0.32.2\n",
            "\u001b[32m\u001b[1m Installed\u001b[22m\u001b[39m DataAPI ────────────────────── v1.1.0\n",
            "\u001b[32m\u001b[1m Installed\u001b[22m\u001b[39m CodecZlib ──────────────────── v0.6.0\n",
            "\u001b[32m\u001b[1m Installed\u001b[22m\u001b[39m FFTW ───────────────────────── v1.2.0\n",
            "\u001b[32m\u001b[1m Installed\u001b[22m\u001b[39m StaticArrays ───────────────── v0.12.1\n",
            "\u001b[32m\u001b[1m Installed\u001b[22m\u001b[39m Zlib_jll ───────────────────── v1.2.11+8\n",
            "\u001b[32m\u001b[1m Installed\u001b[22m\u001b[39m Media ──────────────────────── v0.5.0\n",
            "\u001b[32m\u001b[1m Installed\u001b[22m\u001b[39m ArrayLayouts ───────────────── v0.1.5\n",
            "\u001b[32m\u001b[1m Installed\u001b[22m\u001b[39m SpecialFunctions ───────────── v0.10.0\n",
            "\u001b[32m\u001b[1m Installed\u001b[22m\u001b[39m Zygote ─────────────────────── v0.4.12\n",
            "\u001b[32m\u001b[1m Installed\u001b[22m\u001b[39m ColorTypes ─────────────────── v0.9.1\n",
            "\u001b[32m\u001b[1m Installed\u001b[22m\u001b[39m Juno ───────────────────────── v0.8.1\n",
            "\u001b[32m\u001b[1m Installed\u001b[22m\u001b[39m ForwardDiff ────────────────── v0.10.9\n",
            "\u001b[32m\u001b[1m Installed\u001b[22m\u001b[39m AbstractTrees ──────────────── v0.3.2\n",
            "\u001b[32m\u001b[1m Installed\u001b[22m\u001b[39m ZygoteRules ────────────────── v0.2.0\n",
            "\u001b[32m\u001b[1m Installed\u001b[22m\u001b[39m IRTools ────────────────────── v0.3.1\n",
            "\u001b[32m\u001b[1m Installed\u001b[22m\u001b[39m FixedPointNumbers ──────────── v0.7.1\n",
            "\u001b[32m\u001b[1m Installed\u001b[22m\u001b[39m SortingAlgorithms ──────────── v0.3.1\n",
            "\u001b[32m\u001b[1m Installed\u001b[22m\u001b[39m MKL_jll ────────────────────── v2019.0.117+2\n",
            "\u001b[32m\u001b[1m Installed\u001b[22m\u001b[39m Reexport ───────────────────── v0.2.0\n",
            "\u001b[32m\u001b[1m Installed\u001b[22m\u001b[39m CommonSubexpressions ───────── v0.2.0\n",
            "\u001b[32m\u001b[1m Installed\u001b[22m\u001b[39m OpenSpecFun_jll ────────────── v0.5.3+3\n",
            "\u001b[32m\u001b[1m Installed\u001b[22m\u001b[39m TranscodingStreams ─────────── v0.9.5\n",
            "\u001b[32m\u001b[1m Installed\u001b[22m\u001b[39m Colors ─────────────────────── v0.11.2\n",
            "\u001b[32m\u001b[1m   Cloning\u001b[22m\u001b[39m [e1d29d7a-bbdc-5cf2-9ac0-f12de2c33e28] Missings from https://github.com/JuliaData/Missings.jl.git\n",
            "\u001b[2K\u001b[?25h\u001b[32m\u001b[1m Installed\u001b[22m\u001b[39m Missings ───────────────────── v0.4.3\n",
            "\u001b[32m\u001b[1m   Cloning\u001b[22m\u001b[39m [a5390f91-8eb1-5f08-bee0-b1d1ffed6cea] ZipFile from https://github.com/fhs/ZipFile.jl.git\n",
            "\u001b[2K\u001b[?25h\u001b[32m\u001b[1m Installed\u001b[22m\u001b[39m ZipFile ────────────────────── v0.9.1\n",
            "\u001b[32m\u001b[1m   Cloning\u001b[22m\u001b[39m [f5851436-0d7a-5f13-b9de-f02708fd171a] FFTW_jll from https://github.com/JuliaBinaryWrappers/FFTW_jll.jl.git\n",
            "\u001b[2K\u001b[?25h\u001b[32m\u001b[1m Installed\u001b[22m\u001b[39m FFTW_jll ───────────────────── v3.3.9+4\n",
            "\u001b[32m\u001b[1m  Updating\u001b[22m\u001b[39m `~/.julia/environments/v1.3/Project.toml`\n",
            " \u001b[90m [587475ba]\u001b[39m\u001b[92m + Flux v0.10.3\u001b[39m\n",
            "\u001b[32m\u001b[1m  Updating\u001b[22m\u001b[39m `~/.julia/environments/v1.3/Manifest.toml`\n",
            " \u001b[90m [1520ce14]\u001b[39m\u001b[92m + AbstractTrees v0.3.2\u001b[39m\n",
            " \u001b[90m [4c555306]\u001b[39m\u001b[92m + ArrayLayouts v0.1.5\u001b[39m\n",
            " \u001b[90m [944b1d66]\u001b[39m\u001b[92m + CodecZlib v0.6.0\u001b[39m\n",
            " \u001b[90m [3da002f7]\u001b[39m\u001b[92m + ColorTypes v0.9.1\u001b[39m\n",
            " \u001b[90m [5ae59095]\u001b[39m\u001b[92m + Colors v0.11.2\u001b[39m\n",
            " \u001b[90m [bbf7d656]\u001b[39m\u001b[92m + CommonSubexpressions v0.2.0\u001b[39m\n",
            " \u001b[90m [e66e0078]\u001b[39m\u001b[92m + CompilerSupportLibraries_jll v0.3.1+0\u001b[39m\n",
            " \u001b[90m [9a962f9c]\u001b[39m\u001b[92m + DataAPI v1.1.0\u001b[39m\n",
            " \u001b[90m [163ba53b]\u001b[39m\u001b[92m + DiffResults v1.0.2\u001b[39m\n",
            " \u001b[90m [b552c78f]\u001b[39m\u001b[92m + DiffRules v1.0.1\u001b[39m\n",
            " \u001b[90m [7a1cc6ca]\u001b[39m\u001b[92m + FFTW v1.2.0\u001b[39m\n",
            " \u001b[90m [f5851436]\u001b[39m\u001b[92m + FFTW_jll v3.3.9+4\u001b[39m\n",
            " \u001b[90m [1a297f60]\u001b[39m\u001b[92m + FillArrays v0.8.5\u001b[39m\n",
            " \u001b[90m [53c48c17]\u001b[39m\u001b[92m + FixedPointNumbers v0.7.1\u001b[39m\n",
            " \u001b[90m [587475ba]\u001b[39m\u001b[92m + Flux v0.10.3\u001b[39m\n",
            " \u001b[90m [f6369f11]\u001b[39m\u001b[92m + ForwardDiff v0.10.9\u001b[39m\n",
            " \u001b[90m [7869d1d1]\u001b[39m\u001b[92m + IRTools v0.3.1\u001b[39m\n",
            " \u001b[90m [1d5cc7b8]\u001b[39m\u001b[92m + IntelOpenMP_jll v2018.0.3+0\u001b[39m\n",
            " \u001b[90m [e5e0dc1b]\u001b[39m\u001b[92m + Juno v0.8.1\u001b[39m\n",
            " \u001b[90m [856f044c]\u001b[39m\u001b[92m + MKL_jll v2019.0.117+2\u001b[39m\n",
            " \u001b[90m [e89f7d12]\u001b[39m\u001b[92m + Media v0.5.0\u001b[39m\n",
            " \u001b[90m [e1d29d7a]\u001b[39m\u001b[92m + Missings v0.4.3\u001b[39m\n",
            " \u001b[90m [77ba4419]\u001b[39m\u001b[92m + NaNMath v0.3.3\u001b[39m\n",
            " \u001b[90m [efe28fd5]\u001b[39m\u001b[92m + OpenSpecFun_jll v0.5.3+3\u001b[39m\n",
            " \u001b[90m [189a3867]\u001b[39m\u001b[92m + Reexport v0.2.0\u001b[39m\n",
            " \u001b[90m [a2af1166]\u001b[39m\u001b[92m + SortingAlgorithms v0.3.1\u001b[39m\n",
            " \u001b[90m [276daf66]\u001b[39m\u001b[92m + SpecialFunctions v0.10.0\u001b[39m\n",
            " \u001b[90m [90137ffa]\u001b[39m\u001b[92m + StaticArrays v0.12.1\u001b[39m\n",
            " \u001b[90m [2913bbd2]\u001b[39m\u001b[92m + StatsBase v0.32.2\u001b[39m\n",
            " \u001b[90m [3bb67fe8]\u001b[39m\u001b[92m + TranscodingStreams v0.9.5\u001b[39m\n",
            " \u001b[90m [a5390f91]\u001b[39m\u001b[92m + ZipFile v0.9.1\u001b[39m\n",
            " \u001b[90m [83775a58]\u001b[39m\u001b[92m + Zlib_jll v1.2.11+8\u001b[39m\n",
            " \u001b[90m [e88e6eb3]\u001b[39m\u001b[92m + Zygote v0.4.12\u001b[39m\n",
            " \u001b[90m [700de1a5]\u001b[39m\u001b[92m + ZygoteRules v0.2.0\u001b[39m\n",
            " \u001b[90m [8bb1440f]\u001b[39m\u001b[92m + DelimitedFiles \u001b[39m\n",
            " \u001b[90m [9abbd945]\u001b[39m\u001b[92m + Profile \u001b[39m\n",
            "\u001b[32m\u001b[1m  Building\u001b[22m\u001b[39m CodecZlib → `~/.julia/packages/CodecZlib/5t9zO/deps/build.log`\n",
            "\u001b[32m\u001b[1m  Building\u001b[22m\u001b[39m FFTW ─────→ `~/.julia/packages/FFTW/qqcBj/deps/build.log`\n"
          ],
          "name": "stdout"
        }
      ]
    },
    {
      "cell_type": "code",
      "metadata": {
        "id": "5gE-mK8kOaT0",
        "colab_type": "code",
        "colab": {
          "base_uri": "https://localhost:8080/",
          "height": 136
        },
        "outputId": "03af2f58-0d07-48d8-a579-8712438e6c0a"
      },
      "source": [
        "Pkg.add(\"Zygote\")\n",
        "using Zygote"
      ],
      "execution_count": 8,
      "outputs": [
        {
          "output_type": "stream",
          "text": [
            "\u001b[32m\u001b[1m Resolving\u001b[22m\u001b[39m package versions...\n",
            "\u001b[32m\u001b[1m  Updating\u001b[22m\u001b[39m `~/.julia/environments/v1.3/Project.toml`\n",
            " \u001b[90m [e88e6eb3]\u001b[39m\u001b[92m + Zygote v0.4.12\u001b[39m\n",
            "\u001b[32m\u001b[1m  Updating\u001b[22m\u001b[39m `~/.julia/environments/v1.3/Manifest.toml`\n",
            "\u001b[90m [no changes]\u001b[39m\n"
          ],
          "name": "stdout"
        },
        {
          "output_type": "stream",
          "text": [
            "┌ Info: Precompiling Zygote [e88e6eb3-aa80-5325-afca-941959d7151f]\n",
            "└ @ Base loading.jl:1273\n"
          ],
          "name": "stderr"
        }
      ]
    },
    {
      "cell_type": "code",
      "metadata": {
        "id": "6iBwliBPO0iA",
        "colab_type": "code",
        "colab": {
          "base_uri": "https://localhost:8080/",
          "height": 34
        },
        "outputId": "f9787689-3714-4d0c-e08a-2097d99177ff"
      },
      "source": [
        "gradient(x -> sin(x), 3.0)"
      ],
      "execution_count": 9,
      "outputs": [
        {
          "output_type": "execute_result",
          "data": {
            "text/plain": [
              "(-0.9899924966004454,)"
            ]
          },
          "metadata": {
            "tags": []
          },
          "execution_count": 9
        }
      ]
    },
    {
      "cell_type": "code",
      "metadata": {
        "id": "LwYDdpP5O5kJ",
        "colab_type": "code",
        "colab": {
          "base_uri": "https://localhost:8080/",
          "height": 34
        },
        "outputId": "6378705f-f74f-4d10-a53f-60a2a4394296"
      },
      "source": [
        "v,d = Zygote.pullback(x -> sin(x), 3.0)"
      ],
      "execution_count": 10,
      "outputs": [
        {
          "output_type": "execute_result",
          "data": {
            "text/plain": [
              "(0.1411200080598672, Zygote.var\"#38#39\"{typeof(∂(#8))}(∂(#8)))"
            ]
          },
          "metadata": {
            "tags": []
          },
          "execution_count": 10
        }
      ]
    },
    {
      "cell_type": "code",
      "metadata": {
        "id": "bXyqTrMCPB1A",
        "colab_type": "code",
        "colab": {
          "base_uri": "https://localhost:8080/",
          "height": 34
        },
        "outputId": "eaf8bb35-4daa-40c8-e2dc-697b45f4757f"
      },
      "source": [
        "d(1.0)"
      ],
      "execution_count": 11,
      "outputs": [
        {
          "output_type": "execute_result",
          "data": {
            "text/plain": [
              "(-0.9899924966004454,)"
            ]
          },
          "metadata": {
            "tags": []
          },
          "execution_count": 11
        }
      ]
    },
    {
      "cell_type": "code",
      "metadata": {
        "id": "V9a7f4g5PGWQ",
        "colab_type": "code",
        "colab": {
          "base_uri": "https://localhost:8080/",
          "height": 34
        },
        "outputId": "7872687b-3ab0-44b3-e199-126dfb47a356"
      },
      "source": [
        "W = rand(Float16, 30,30);\n",
        "b = rand(Float16, 30);\n",
        "linear = x -> W*x .+ b\n"
      ],
      "execution_count": 14,
      "outputs": [
        {
          "output_type": "execute_result",
          "data": {
            "text/plain": [
              "#10 (generic function with 1 method)"
            ]
          },
          "metadata": {
            "tags": []
          },
          "execution_count": 14
        }
      ]
    },
    {
      "cell_type": "code",
      "metadata": {
        "id": "vyh4qqllPoG3",
        "colab_type": "code",
        "colab": {
          "base_uri": "https://localhost:8080/",
          "height": 476
        },
        "outputId": "ae9db1c5-1fe8-4ddc-dd1c-01d142336e37"
      },
      "source": [
        "linear(ones(Float16, 30))"
      ],
      "execution_count": 16,
      "outputs": [
        {
          "output_type": "execute_result",
          "data": {
            "text/plain": [
              "30-element Array{Float16,1}:\n",
              " 17.48 \n",
              " 17.56 \n",
              " 14.19 \n",
              " 15.59 \n",
              " 19.22 \n",
              " 15.21 \n",
              " 16.78 \n",
              " 16.17 \n",
              " 16.23 \n",
              " 15.414\n",
              " 16.03 \n",
              " 11.54 \n",
              " 15.15 \n",
              "  ⋮    \n",
              " 14.21 \n",
              " 17.98 \n",
              " 15.2  \n",
              " 16.28 \n",
              " 15.15 \n",
              " 14.61 \n",
              " 17.98 \n",
              " 17.03 \n",
              " 14.47 \n",
              " 14.11 \n",
              " 15.42 \n",
              " 16.55 "
            ]
          },
          "metadata": {
            "tags": []
          },
          "execution_count": 16
        }
      ]
    },
    {
      "cell_type": "code",
      "metadata": {
        "id": "_oWtTHCuP2VB",
        "colab_type": "code",
        "colab": {}
      },
      "source": [
        ""
      ],
      "execution_count": 0,
      "outputs": []
    }
  ]
}